{
 "cells": [
  {
   "cell_type": "code",
   "execution_count": null,
   "metadata": {},
   "outputs": [],
   "source": [
    "# z plików kończących się 5xx.lms bierzemy z, y\n",
    "# z plików 1xx.lms bierzemy x, y"
   ]
  },
  {
   "cell_type": "code",
   "execution_count": null,
   "metadata": {},
   "outputs": [],
   "source": [
    "import pandas as pd\n",
    "import numpy as np\n",
    "import re\n",
    "\n",
    "# Stworzenie tabeli dla jednego pliku\n",
    "\n",
    "filepath = \"data/Pomiary_001/BI365GX_empty_20241107_074426_LMS5xx.lms\"\n",
    "\n",
    "with open(filepath, 'r', encoding='utf-8') as file:\n",
    "    lines = file.readlines()  # Odczytanie wszystkich linii\n",
    "\n",
    "# Dane bez pierwszej linii\n",
    "content_without_first_line = lines[1:]\n",
    "\n",
    "# Pobranie daty z pierwszej linijki pliku\n",
    "match = re.search(r\"Date: (.{10})\", lines[0])\n",
    "date_string = match.group(1)\n",
    "\n",
    "# Stworzenie pustej ramki danych\n",
    "data_frame = pd.DataFrame()\n",
    "\n",
    "for index, line in enumerate(content_without_first_line):\n",
    "    # Parzyste linie to godziny\n",
    "    if index%2 == 0:\n",
    "        datetime_string = date_string + \" \" + line\n",
    "        datetime = pd.to_datetime(datetime_string)  # Połączenie daty i godziny\n",
    "    else:\n",
    "        list_position = line.split()\n",
    "        matrix = np.array([list(map(int, item.split(','))) for item in list_position])  # Macierz z danych\n",
    "\n",
    "        df = pd.DataFrame(matrix, columns=[\"z\", \"y\"])\n",
    "        df.insert(0, \"datetime\", datetime)  # Dodanie daty jako pierwszej kolumny\n",
    "        data_frame = pd.concat([data_frame, df], ignore_index=True)"
   ]
  },
  {
   "cell_type": "code",
   "execution_count": null,
   "metadata": {},
   "outputs": [],
   "source": [
    "import pandas as pd\n",
    "import matplotlib.pyplot as plt\n",
    "from mpl_toolkits.mplot3d import Axes3D\n",
    "import numpy as np\n",
    "\n",
    "# Zakładając, że masz DataFrame o nazwie 'data_frame'\n",
    "fig = plt.figure()\n",
    "ax = fig.add_subplot(111, projection='3d')\n",
    "\n",
    "# Konwersja datetime na liczby dla osi x (można użyć np. funkcji pd.to_numeric)\n",
    "x = pd.to_numeric(data_frame['datetime'])\n",
    "\n",
    "# Wyciągnięcie wartości z i y\n",
    "z = data_frame['z']\n",
    "y = data_frame['y']\n",
    "\n",
    "# Tworzenie wykresu\n",
    "ax.scatter(x, y, z)\n",
    "\n",
    "# Dodawanie etykiet osi\n",
    "ax.set_xlabel('Czas')\n",
    "ax.set_ylabel('Zmienna y')\n",
    "ax.set_zlabel('Zmienna z')\n",
    "\n",
    "plt.show()\n"
   ]
  },
  {
   "cell_type": "code",
   "execution_count": null,
   "metadata": {},
   "outputs": [],
   "source": [
    "import pandas as pd\n",
    "import matplotlib.pyplot as plt\n",
    "from mpl_toolkits.mplot3d import Axes3D\n",
    "\n",
    "# Przygotowanie danych (przykładowe dane)\n",
    "df = data_frame\n",
    "\n",
    "# Konwersja datetime na liczby (dla uproszczenia)\n",
    "x = pd.to_numeric(df['datetime'])\n",
    "\n",
    "# Tworzenie wykresu\n",
    "fig = plt.figure()\n",
    "ax = fig.add_subplot(111, projection='3d')\n",
    "\n",
    "ax.scatter(x, df['y'], df['z'])\n",
    "\n",
    "# Ustawienie etykiet osi\n",
    "ax.set_xlabel('Czas')\n",
    "ax.set_ylabel('Zmienna y')\n",
    "ax.set_zlabel('Zmienna z')\n",
    "\n",
    "# Umożliwienie interaktywnego obracania\n",
    "plt.show()"
   ]
  },
  {
   "cell_type": "code",
   "execution_count": null,
   "metadata": {},
   "outputs": [],
   "source": [
    "import plotly.graph_objects as go\n",
    "import pandas as pd\n",
    "import numpy as np\n",
    "\n",
    "# Przygotowanie danych (podobnie jak w poprzednim przykładzie)\n",
    "df = data_frame\n",
    "\n",
    "# Konwersja datetime na liczby (dla uproszczenia)\n",
    "x = pd.to_numeric(df['datetime'])\n",
    "\n",
    "# Tworzenie wykresu 3D w Plotly\n",
    "fig = go.Figure(data=go.Scatter3d(\n",
    "    x=x,\n",
    "    y=df['y'],\n",
    "    z=df['z'],\n",
    "    mode='markers',\n",
    "    marker=dict(\n",
    "        size=12,\n",
    "        color=z,  # Użycie wartości z jako koloru punktów\n",
    "        colorscale='Viridis',  # Paleta kolorów\n",
    "        opacity=0.8\n",
    "    )\n",
    "))\n",
    "\n",
    "# Ustawienie tytułu i osi\n",
    "fig.update_layout(title='Wykres 3D z interakcją',\n",
    "                  scene = dict(\n",
    "                      xaxis_title='Czas',\n",
    "                      yaxis_title='Zmienna y',\n",
    "                      zaxis_title='Zmienna z'))\n",
    "\n",
    "# Wyświetlenie wykresu\n",
    "fig.show()"
   ]
  },
  {
   "cell_type": "markdown",
   "metadata": {},
   "source": [
    "## min i max czas"
   ]
  },
  {
   "cell_type": "markdown",
   "metadata": {},
   "source": [
    "$s=v\\cdot t$"
   ]
  },
  {
   "cell_type": "code",
   "execution_count": 46,
   "metadata": {},
   "outputs": [
    {
     "name": "stdout",
     "output_type": "stream",
     "text": [
      "2024-11-07 07:44:26.377000 2024-11-07 07:44:44.578000\n"
     ]
    }
   ],
   "source": [
    "t1 = data_frame[\"Date\"].unique()\n",
    "print(min(t1), max(t1))"
   ]
  }
 ],
 "metadata": {
  "kernelspec": {
   "display_name": "Python 3",
   "language": "python",
   "name": "python3"
  },
  "language_info": {
   "codemirror_mode": {
    "name": "ipython",
    "version": 3
   },
   "file_extension": ".py",
   "mimetype": "text/x-python",
   "name": "python",
   "nbconvert_exporter": "python",
   "pygments_lexer": "ipython3",
   "version": "3.13.0"
  }
 },
 "nbformat": 4,
 "nbformat_minor": 2
}
